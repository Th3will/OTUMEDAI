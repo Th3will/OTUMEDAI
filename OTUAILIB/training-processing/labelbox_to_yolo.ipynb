{
 "cells": [
  {
   "cell_type": "code",
   "execution_count": 2,
   "metadata": {},
   "outputs": [],
   "source": [
    "import argparse\n",
    "import json\n",
    "import os"
   ]
  },
  {
   "cell_type": "code",
   "execution_count": null,
   "metadata": {},
   "outputs": [],
   "source": [
    "def clamp(min, max, value):\n",
    "    if(min > max):\n",
    "        print(\"the min and max values are swapped; min > max\")\n",
    "    if value > max:\n",
    "        value = max\n",
    "    if value < min:\n",
    "        value = min\n",
    "    return min\n",
    "# labelbox's predictors tend to create bounding boxes that are bigger than the actual size of the frame so we need to correct that\n",
    "# top left h w correspond to the bbox, maxw and maxh are the size of the video\n",
    "def fix_dims(top, left, h, w, maxw, maxh):\n",
    "    top = clamp(0, maxh, top)\n",
    "    left = clamp(0, maxw, left)\n",
    "    h = top + h > maxh ? maxh - top : h\n",
    "    w = left + w > maxw ? maxw - left : w\n",
    "    return top, left, h, w\n",
    "    \n",
    "    "
   ]
  },
  {
   "cell_type": "code",
   "execution_count": 13,
   "metadata": {},
   "outputs": [
    {
     "ename": "SyntaxError",
     "evalue": "invalid syntax (15830454.py, line 15)",
     "output_type": "error",
     "traceback": [
      "\u001b[0;36m  Cell \u001b[0;32mIn[13], line 15\u001b[0;36m\u001b[0m\n\u001b[0;31m    bbox = sub_dict[i][\"objects\"][\"clkvm3vwr00043j6nu7ybjpbq\"][]\u001b[0m\n\u001b[0m                                                               ^\u001b[0m\n\u001b[0;31mSyntaxError\u001b[0m\u001b[0;31m:\u001b[0m invalid syntax\n"
     ]
    }
   ],
   "source": [
    "#abs path\n",
    "#TODO replace when finished\n",
    "#j_file = input(\"which json file \")\n",
    "j_file = \"/home/wni1717/dev/OTUMEDAI/test/vid0.json\"\n",
    "#v_file = input(\"which video file \")\n",
    "with open(j_file) as json_file:\n",
    "    complete_dict = json.load(json_file)\n",
    "#this is a list of dictionaries\n",
    "#TODO CONSIDER: the second index is currently hardcoded  \n",
    "width = 200\n",
    "height = 200\n",
    "sub_dict = complete_dict[\"projects\"][\"clkvlz0sk0aut07xafp7he7x3\"][\"labels\"][-1][\"annotations\"][\"frames\"]\n",
    "names = {\"kidney stone\": \"1\"}\n",
    "for i in sub_dict:\n",
    "    #class\n",
    "    name = sub_dict[i][\"objects\"][\"clkvm3vwr00043j6nu7ybjpbq\"][\"name\"]\n",
    "    bbox = sub_dict[i][\"objects\"][\"clkvm3vwr00043j6nu7ybjpbq\"][\"bounding_box\"]\n",
    "    top, left, h, w = bbox.values()  # top, left, height, width\n",
    "    top = int(clamp(0,height, top))\n",
    "    left = int(clamp(0, width, left))\n",
    "    h = int(clamp(0, height, h))\n",
    "    w = int(clamp(0, width, w))\n",
    "    xywh = [(left + w / 2) / width, (top + h / 2) / height, w / width, h / height]  # xywh normalized\n",
    "    print()\n",
    "\n"
   ]
  },
  {
   "cell_type": "code",
   "execution_count": null,
   "metadata": {},
   "outputs": [],
   "source": []
  }
 ],
 "metadata": {
  "kernelspec": {
   "display_name": "base",
   "language": "python",
   "name": "python3"
  },
  "language_info": {
   "codemirror_mode": {
    "name": "ipython",
    "version": 3
   },
   "file_extension": ".py",
   "mimetype": "text/x-python",
   "name": "python",
   "nbconvert_exporter": "python",
   "pygments_lexer": "ipython3",
   "version": "3.11.3"
  },
  "orig_nbformat": 4
 },
 "nbformat": 4,
 "nbformat_minor": 2
}
