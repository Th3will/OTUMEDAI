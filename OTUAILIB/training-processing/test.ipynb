{
 "cells": [
  {
   "cell_type": "code",
   "execution_count": 57,
   "metadata": {},
   "outputs": [],
   "source": [
    "import cv2, os, random, shutil\n",
    "from IPython.display import Image, display"
   ]
  },
  {
   "cell_type": "code",
   "execution_count": 19,
   "metadata": {},
   "outputs": [],
   "source": [
    "img = cv2.imread(\"/home/wni1717/dev/OTUMEDAI/VNN/test_dataset/video_4/frame_081.jpg\")"
   ]
  },
  {
   "cell_type": "code",
   "execution_count": 100,
   "metadata": {},
   "outputs": [
    {
     "data": {
      "text/plain": [
       "True"
      ]
     },
     "execution_count": 100,
     "metadata": {},
     "output_type": "execute_result"
    }
   ],
   "source": [
    "os.chdir(\"/home/wni1717/dev/OTUMEDAI/VNN/label_pain/test\")\n",
    "cv2.imwrite(\"frame_81.jpg\",img)"
   ]
  },
  {
   "cell_type": "code",
   "execution_count": 11,
   "metadata": {},
   "outputs": [],
   "source": [
    "center_x, center_y, width, height = [0.4489062500000003, 0.4933333333333333, 0.07312500000000059, 0.05999999999999979]\n",
    "image_height, image_width, _ = img.shape\n",
    "    \n",
    "# Calculate the absolute coordinates of the box\n",
    "x_min = int(center_x * image_width - (width * image_width) / 2)\n",
    "y_min = int(center_y * image_height - (height * image_height) / 2)\n",
    "x_max = int(center_x * image_width + (width * image_width) / 2)\n",
    "y_max = int(center_y * image_height + (height * image_height) / 2)\n",
    "\n",
    "# Draw the box on the image\n",
    "cv2.rectangle(img, (x_min, y_min), (x_max, y_max), (0, 0, 255), 2)\n",
    "cv2.imwrite(\"frame_81_boxed.jpg\",img)"
   ]
  },
  {
   "cell_type": "code",
   "execution_count": 102,
   "metadata": {},
   "outputs": [],
   "source": [
    "# convert absolute coordinates from 1080 to 600\n",
    "x_min = int(center_x * image_width - (width * image_width) / 2) - 660\n",
    "y_min = int(center_y * image_height - (height * image_height) / 2) - 240\n",
    "x_max = int(center_x * image_width + (width * image_width) / 2) - 660\n",
    "y_max = int(center_y * image_height + (height * image_height) / 2) - 240 \n",
    "\n",
    "\n",
    "new_cent_x = ((x_min - x_max)/2)/600\n",
    "new_cent_y = ((y_min - y_max)/2)/600\n",
    "new_width = (x_min - x_max)/600\n",
    "new_height = (y_min - y_max)/600"
   ]
  },
  {
   "cell_type": "code",
   "execution_count": 103,
   "metadata": {},
   "outputs": [
    {
     "name": "stdout",
     "output_type": "stream",
     "text": [
      "(1080, 1920, 3)\n"
     ]
    }
   ],
   "source": [
    "print(img.shape)"
   ]
  },
  {
   "cell_type": "code",
   "execution_count": 20,
   "metadata": {},
   "outputs": [
    {
     "data": {
      "text/plain": [
       "True"
      ]
     },
     "execution_count": 20,
     "metadata": {},
     "output_type": "execute_result"
    }
   ],
   "source": [
    "# center_x, center_y, width, height = [new_cent_x, new_cent_y, new_width, new_height]\n",
    "# Resize image\n",
    "img = img[240:840,660:1260]\n",
    "cv2.imwrite(\"adjusted_frame_81.jpg\",img)\n",
    "# cv2.rectangle(img, (x_min, y_min), (x_max, y_max), (0, 0, 255), 2)\n",
    "# image_height, image_width, _ = img.shape\n",
    "    \n",
    "# # Calculate the absolute coordinates of the box\n",
    "# x_min = int(center_x * image_width - (width * image_width) / 2)\n",
    "# y_min = int(center_y * image_height - (height * image_height) / 2)\n",
    "# x_max = int(center_x * image_width + (width * image_width) / 2)\n",
    "# y_max = int(center_y * image_height + (height * image_height) / 2)\n",
    "\n",
    "# # Draw the box on the image\n",
    "# cv2.rectangle(img, (x_min, y_min), (x_max, y_max), (0, 0, 255), 2)\n",
    "# cv2.imwrite(\"cropped_frame_81_boxed.jpg\",img)"
   ]
  },
  {
   "cell_type": "code",
   "execution_count": 105,
   "metadata": {},
   "outputs": [],
   "source": [
    "cv2.destroyAllWindows()"
   ]
  },
  {
   "cell_type": "code",
   "execution_count": 106,
   "metadata": {},
   "outputs": [],
   "source": [
    "\n",
    "#cv2.rectangle(img, (x1, y1), (x2, y2), (255,0,0), 2)"
   ]
  },
  {
   "cell_type": "code",
   "execution_count": 39,
   "metadata": {},
   "outputs": [
    {
     "name": "stdout",
     "output_type": "stream",
     "text": [
      "0 0.3365000000000009 0.48799999999999993 0.2340000000000019 0.19199999999999934\n",
      "\n",
      "0 0.40250000000000585 0.42200000000000104 0.10799999999999871 0.08533333333333652\n",
      "\n",
      "0 0.25250000000000017 0.4444999999999998 0.1919999999999999 0.15466666666666662\n",
      "\n"
     ]
    }
   ],
   "source": [
    "filet = os.path.join('/home/wni1717/dev/OTUMEDAI/VNN/label_pain','frame_081.txt')\n",
    "filer = open(filet, \"r\")\n",
    "newDirectory = '/home/wni1717/dev/OTUMEDAI/VNN/label_pain/test/'\n",
    "# valAry doesn't contain the class at all\n",
    "def yoloValidate(valAry, img, new_img_name):   \n",
    "    center_x, center_y, width, height = valAry\n",
    "    image = cv2.imread(img)\n",
    "    image_height, image_width, _ = image.shape\n",
    "        \n",
    "    # Calculate the absolute coordinates of the box\n",
    "    x_min = int(center_x * image_width - (width * image_width) / 2)\n",
    "    y_min = int(center_y * image_height - (height * image_height) / 2)\n",
    "    x_max = int(center_x * image_width + (width * image_width) / 2)\n",
    "    y_max = int(center_y * image_height + (height * image_height) / 2)\n",
    "\n",
    "    # Draw the box on the image\n",
    "    cv2.rectangle(image, (x_min, y_min), (x_max, y_max), (0, 0, 255), 2)\n",
    "    cv2.imwrite(new_img_name,image)\n",
    "    \n",
    "def convertTxt(ary):\n",
    "    image_width = 1920\n",
    "    image_height = 1080\n",
    "    _, center_x, center_y, width, height = ary\n",
    "    # the above values are taken in as a string, need to convert to float\n",
    "    center_x, center_y, width, height = float(center_x), float(center_y), float(width), float(height)\n",
    "    \n",
    "    # convert to box coordinates\n",
    "    x_min = int(center_x * image_width - (width * image_width) / 2) - 660\n",
    "    y_min = int(center_y * image_height - (height * image_height) / 2) - 240\n",
    "    x_max = int(center_x * image_width + (width * image_width) / 2) - 660\n",
    "    y_max = int(center_y * image_height + (height * image_height) / 2) - 240 \n",
    "    #convert back to relative coordinates\n",
    "    new_cent_x = ((center_x*image_width)-660)/600\n",
    "    new_cent_y = ((center_y*image_height)-240)/600\n",
    "    new_width = width*(1920.0/600)\n",
    "    new_height = height*(1920.0/600)\n",
    "    #end\n",
    "    return [new_cent_x, new_cent_y, new_width, new_height]\n",
    "\n",
    "nfile = open(newDirectory + filet.split(\"/\")[-1:][0], \"a\")\n",
    "for x in filer:\n",
    "    inp = x.split(\" \")\n",
    "    inp[4] = inp[4].split('\\n')[0]\n",
    "    newVals = convertTxt(inp)\n",
    "    newAnnot =inp[0] +  \" \" + str(newVals[0]) + \" \" + str(newVals[1]) + \" \" + str(newVals[2]) + \" \" + str(newVals[3]) + \"\\n\"\n",
    "    nfile.write(newAnnot)\n",
    "nfile.close()"
   ]
  },
  {
   "cell_type": "code",
   "execution_count": 50,
   "metadata": {},
   "outputs": [],
   "source": [
    "directory = '/home/wni1717/dev/OTUMEDAI/VNN/test_dataset/video_4'\n",
    "newDirectory = '/home/wni1717/dev/OTUMEDAI/VNN/test_dataset/better_video_4'\n",
    "for filename in os.listdir(directory):\n",
    "    f = os.path.join(directory, filename)\n",
    "    # checking if it is a file\n",
    "    if os.path.isfile(f):\n",
    "        filenm = f.split(\"/\")[-1:][0]\n",
    "        file_end = filenm.split(\".\")[-1:][0]\n",
    "        if(file_end == 'txt'):\n",
    "            nfile = open(os.path.join(newDirectory, filenm), \"a\")\n",
    "            filer = open(f, \"r\")\n",
    "            for x in filer:\n",
    "                inp = x.split(\" \")\n",
    "                if(len(inp) == 5):\n",
    "                    inp[4] = inp[4].split('\\n')[0]\n",
    "                    newVals = convertTxt(inp)\n",
    "                    newAnnot =inp[0] +  \" \" + str(newVals[0]) + \" \" + str(newVals[1]) + \" \" + str(newVals[2]) + \" \" + str(newVals[3]) + \"\\n\"\n",
    "                    nfile.write(newAnnot)\n",
    "            nfile.close()\n",
    "        else:\n",
    "            img = cv2.imread(f)\n",
    "            img = img[240:840,660:1260]\n",
    "            cv2.imwrite(os.path.join(newDirectory, filenm),img)"
   ]
  },
  {
   "cell_type": "code",
   "execution_count": 60,
   "metadata": {},
   "outputs": [],
   "source": [
    "directory = '/home/wni1717/dev/OTUMEDAI/VNN/label_pain/better_video_4'\n",
    "newDirectory = '/home/wni1717/dev/OTUMEDAI/VNN/test_dataset'\n",
    "# move count random frames to validation\n",
    "count = 20\n",
    "for i in range(20):\n",
    "    random_file=random.choice(os.listdir(directory))\n",
    "    #see if the file is a jpg or txt\n",
    "    file_beg = random_file.split(\".\")[0]\n",
    "    file_end = random_file.split(\".\")[1]\n",
    "    complement = \"\"\n",
    "    if (file_end == \"txt\"):\n",
    "        complement = file_beg + \".jpg\"\n",
    "        shutil.move(os.path.join(directory, random_file), '/home/wni1717/dev/OTUMEDAI/VNN/test_dataset/labels/val')\n",
    "        shutil.move(os.path.join(directory, complement), '/home/wni1717/dev/OTUMEDAI/VNN/test_dataset/images/val')\n",
    "    else:\n",
    "        complement = file_beg + \".txt\"\n",
    "        shutil.move(os.path.join(directory, complement), '/home/wni1717/dev/OTUMEDAI/VNN/test_dataset/labels/val')\n",
    "        shutil.move(os.path.join(directory, random_file), '/home/wni1717/dev/OTUMEDAI/VNN/test_dataset/images/val')\n"
   ]
  },
  {
   "cell_type": "code",
   "execution_count": 62,
   "metadata": {},
   "outputs": [],
   "source": [
    "for filename in os.listdir(directory):\n",
    "    f = os.path.join(directory, filename)\n",
    "    filenm = f.split(\"/\")[-1:][0]\n",
    "    file_end = filenm.split(\".\")[-1:][0]\n",
    "    if(file_end == 'txt'):\n",
    "        shutil.move(f, '/home/wni1717/dev/OTUMEDAI/VNN/test_dataset/labels/train')\n",
    "    else:\n",
    "        shutil.move(f,'/home/wni1717/dev/OTUMEDAI/VNN/test_dataset/images/train')"
   ]
  },
  {
   "cell_type": "code",
   "execution_count": null,
   "metadata": {},
   "outputs": [],
   "source": []
  }
 ],
 "metadata": {
  "kernelspec": {
   "display_name": "venv",
   "language": "python",
   "name": "python3"
  },
  "language_info": {
   "codemirror_mode": {
    "name": "ipython",
    "version": 3
   },
   "file_extension": ".py",
   "mimetype": "text/x-python",
   "name": "python",
   "nbconvert_exporter": "python",
   "pygments_lexer": "ipython3",
   "version": "3.10.6"
  },
  "orig_nbformat": 4
 },
 "nbformat": 4,
 "nbformat_minor": 2
}
